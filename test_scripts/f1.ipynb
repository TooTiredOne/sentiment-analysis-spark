{
  "nbformat": 4,
  "nbformat_minor": 0,
  "metadata": {
    "kernelspec": {
      "display_name": "Python 3",
      "language": "python",
      "name": "python3"
    },
    "language_info": {
      "codemirror_mode": {
        "name": "ipython",
        "version": 3
      },
      "file_extension": ".py",
      "mimetype": "text/x-python",
      "name": "python",
      "nbconvert_exporter": "python",
      "pygments_lexer": "ipython3",
      "version": "3.6.10"
    },
    "colab": {
      "name": "f1.ipynb",
      "provenance": []
    }
  },
  "cells": [
    {
      "cell_type": "markdown",
      "metadata": {
        "id": "epXdMVN8V3Xd"
      },
      "source": [
        "Import all libraries"
      ]
    },
    {
      "cell_type": "code",
      "metadata": {
        "id": "1QgOfCpcV3Xf"
      },
      "source": [
        "import pandas as pd\n",
        "from sklearn.metrics import f1_score, precision_score, recall_score"
      ],
      "execution_count": null,
      "outputs": []
    },
    {
      "cell_type": "markdown",
      "metadata": {
        "id": "EZmJB-1XV3Xm"
      },
      "source": [
        "Read the file"
      ]
    },
    {
      "cell_type": "code",
      "metadata": {
        "id": "etJzaRd-V3Xn"
      },
      "source": [
        "output = pd.read_csv(\"output.csv\", header=None)"
      ],
      "execution_count": null,
      "outputs": []
    },
    {
      "cell_type": "markdown",
      "metadata": {
        "id": "H5dCsMIeV3Xt"
      },
      "source": [
        "The third column is prediction, the last one is labeled by hand\n"
      ]
    },
    {
      "cell_type": "code",
      "metadata": {
        "id": "EEbPWPpIV3Xu"
      },
      "source": [
        "y_pred, y_true = output.iloc[:,2], output.iloc[:,3]"
      ],
      "execution_count": null,
      "outputs": []
    },
    {
      "cell_type": "code",
      "metadata": {
        "id": "kSmSihlgV3Xz",
        "outputId": "a5b91117-bd48-4583-ea6b-530c6817b119"
      },
      "source": [
        "print(f\"f1 score: {f1_score(y_pred, y_true)}; precision: {precision_score(y_pred, y_true)}; recall: {recall_score(y_pred, y_true)}\")"
      ],
      "execution_count": null,
      "outputs": [
        {
          "output_type": "stream",
          "text": [
            "f1 score: 0.6666666666666665; precision: 0.75; recall: 0.6\n"
          ],
          "name": "stdout"
        }
      ]
    }
  ]
}