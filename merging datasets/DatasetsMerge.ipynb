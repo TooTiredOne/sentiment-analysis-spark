{
 "cells": [
  {
   "cell_type": "code",
   "execution_count": 1,
   "metadata": {},
   "outputs": [],
   "source": [
    "import pandas as pd\n",
    "from sklearn.model_selection import train_test_split\n",
    "import os\n",
    "import numpy as np"
   ]
  },
  {
   "cell_type": "markdown",
   "metadata": {},
   "source": [
    "# Train"
   ]
  },
  {
   "cell_type": "markdown",
   "metadata": {},
   "source": [
    "## Twitter dataset"
   ]
  },
  {
   "cell_type": "code",
   "execution_count": 2,
   "metadata": {},
   "outputs": [],
   "source": [
    "df_twitter = pd.read_csv(\"twitter-sentiment-analysis2/train.csv\", encoding='latin-1')"
   ]
  },
  {
   "cell_type": "code",
   "execution_count": 3,
   "metadata": {},
   "outputs": [
    {
     "data": {
      "text/html": [
       "<div>\n",
       "<style scoped>\n",
       "    .dataframe tbody tr th:only-of-type {\n",
       "        vertical-align: middle;\n",
       "    }\n",
       "\n",
       "    .dataframe tbody tr th {\n",
       "        vertical-align: top;\n",
       "    }\n",
       "\n",
       "    .dataframe thead th {\n",
       "        text-align: right;\n",
       "    }\n",
       "</style>\n",
       "<table border=\"1\" class=\"dataframe\">\n",
       "  <thead>\n",
       "    <tr style=\"text-align: right;\">\n",
       "      <th></th>\n",
       "      <th>ItemID</th>\n",
       "      <th>Sentiment</th>\n",
       "      <th>SentimentText</th>\n",
       "    </tr>\n",
       "  </thead>\n",
       "  <tbody>\n",
       "    <tr>\n",
       "      <th>0</th>\n",
       "      <td>1</td>\n",
       "      <td>0</td>\n",
       "      <td>is so sad for my APL frie...</td>\n",
       "    </tr>\n",
       "    <tr>\n",
       "      <th>1</th>\n",
       "      <td>2</td>\n",
       "      <td>0</td>\n",
       "      <td>I missed the New Moon trail...</td>\n",
       "    </tr>\n",
       "    <tr>\n",
       "      <th>2</th>\n",
       "      <td>3</td>\n",
       "      <td>1</td>\n",
       "      <td>omg its already 7:30 :O</td>\n",
       "    </tr>\n",
       "    <tr>\n",
       "      <th>3</th>\n",
       "      <td>4</td>\n",
       "      <td>0</td>\n",
       "      <td>.. Omgaga. Im sooo  im gunna CRy. I'...</td>\n",
       "    </tr>\n",
       "    <tr>\n",
       "      <th>4</th>\n",
       "      <td>5</td>\n",
       "      <td>0</td>\n",
       "      <td>i think mi bf is cheating on me!!!   ...</td>\n",
       "    </tr>\n",
       "  </tbody>\n",
       "</table>\n",
       "</div>"
      ],
      "text/plain": [
       "   ItemID  Sentiment                                      SentimentText\n",
       "0       1          0                       is so sad for my APL frie...\n",
       "1       2          0                     I missed the New Moon trail...\n",
       "2       3          1                            omg its already 7:30 :O\n",
       "3       4          0            .. Omgaga. Im sooo  im gunna CRy. I'...\n",
       "4       5          0           i think mi bf is cheating on me!!!   ..."
      ]
     },
     "execution_count": 3,
     "metadata": {},
     "output_type": "execute_result"
    }
   ],
   "source": [
    "df_twitter.head()"
   ]
  },
  {
   "cell_type": "code",
   "execution_count": 4,
   "metadata": {},
   "outputs": [
    {
     "name": "stdout",
     "output_type": "stream",
     "text": [
      "<class 'pandas.core.frame.DataFrame'>\n",
      "RangeIndex: 99989 entries, 0 to 99988\n",
      "Data columns (total 3 columns):\n",
      " #   Column         Non-Null Count  Dtype \n",
      "---  ------         --------------  ----- \n",
      " 0   ItemID         99989 non-null  int64 \n",
      " 1   Sentiment      99989 non-null  int64 \n",
      " 2   SentimentText  99989 non-null  object\n",
      "dtypes: int64(2), object(1)\n",
      "memory usage: 2.3+ MB\n"
     ]
    }
   ],
   "source": [
    "df_twitter.info()"
   ]
  },
  {
   "cell_type": "code",
   "execution_count": 5,
   "metadata": {},
   "outputs": [],
   "source": [
    "df_twitter.drop('ItemID', axis=1, inplace=True)"
   ]
  },
  {
   "cell_type": "code",
   "execution_count": 6,
   "metadata": {},
   "outputs": [
    {
     "data": {
      "text/html": [
       "<div>\n",
       "<style scoped>\n",
       "    .dataframe tbody tr th:only-of-type {\n",
       "        vertical-align: middle;\n",
       "    }\n",
       "\n",
       "    .dataframe tbody tr th {\n",
       "        vertical-align: top;\n",
       "    }\n",
       "\n",
       "    .dataframe thead th {\n",
       "        text-align: right;\n",
       "    }\n",
       "</style>\n",
       "<table border=\"1\" class=\"dataframe\">\n",
       "  <thead>\n",
       "    <tr style=\"text-align: right;\">\n",
       "      <th></th>\n",
       "      <th>Sentiment</th>\n",
       "      <th>SentimentText</th>\n",
       "    </tr>\n",
       "  </thead>\n",
       "  <tbody>\n",
       "    <tr>\n",
       "      <th>0</th>\n",
       "      <td>0</td>\n",
       "      <td>is so sad for my APL frie...</td>\n",
       "    </tr>\n",
       "    <tr>\n",
       "      <th>1</th>\n",
       "      <td>0</td>\n",
       "      <td>I missed the New Moon trail...</td>\n",
       "    </tr>\n",
       "    <tr>\n",
       "      <th>2</th>\n",
       "      <td>1</td>\n",
       "      <td>omg its already 7:30 :O</td>\n",
       "    </tr>\n",
       "    <tr>\n",
       "      <th>3</th>\n",
       "      <td>0</td>\n",
       "      <td>.. Omgaga. Im sooo  im gunna CRy. I'...</td>\n",
       "    </tr>\n",
       "    <tr>\n",
       "      <th>4</th>\n",
       "      <td>0</td>\n",
       "      <td>i think mi bf is cheating on me!!!   ...</td>\n",
       "    </tr>\n",
       "  </tbody>\n",
       "</table>\n",
       "</div>"
      ],
      "text/plain": [
       "   Sentiment                                      SentimentText\n",
       "0          0                       is so sad for my APL frie...\n",
       "1          0                     I missed the New Moon trail...\n",
       "2          1                            omg its already 7:30 :O\n",
       "3          0            .. Omgaga. Im sooo  im gunna CRy. I'...\n",
       "4          0           i think mi bf is cheating on me!!!   ..."
      ]
     },
     "execution_count": 6,
     "metadata": {},
     "output_type": "execute_result"
    }
   ],
   "source": [
    "df_twitter.head()"
   ]
  },
  {
   "cell_type": "code",
   "execution_count": 7,
   "metadata": {},
   "outputs": [],
   "source": [
    "X_twitter_train, X_twitter_test, y_twitter_train, y_twitter_test = train_test_split(df_twitter['SentimentText'].values,\n",
    "                                                                                   df_twitter['Sentiment'].values,\n",
    "                                                                                   test_size=0.2,\n",
    "                                                                                   stratify=df_twitter['Sentiment'].values,\n",
    "                                                                                   shuffle = True,\n",
    "                                                                                   random_state=42) "
   ]
  },
  {
   "cell_type": "code",
   "execution_count": 8,
   "metadata": {},
   "outputs": [
    {
     "data": {
      "text/plain": [
       "' @LadyKeisha @scorpio510 thanx for the post &amp; the warm wishes.. enjoy ur day!'"
      ]
     },
     "execution_count": 8,
     "metadata": {},
     "output_type": "execute_result"
    }
   ],
   "source": [
    "X_twitter_train[290]"
   ]
  },
  {
   "cell_type": "code",
   "execution_count": 9,
   "metadata": {},
   "outputs": [
    {
     "data": {
      "text/plain": [
       "1"
      ]
     },
     "execution_count": 9,
     "metadata": {},
     "output_type": "execute_result"
    }
   ],
   "source": [
    "y_twitter_train[290]"
   ]
  },
  {
   "cell_type": "code",
   "execution_count": 10,
   "metadata": {},
   "outputs": [
    {
     "data": {
      "text/html": [
       "<div>\n",
       "<style scoped>\n",
       "    .dataframe tbody tr th:only-of-type {\n",
       "        vertical-align: middle;\n",
       "    }\n",
       "\n",
       "    .dataframe tbody tr th {\n",
       "        vertical-align: top;\n",
       "    }\n",
       "\n",
       "    .dataframe thead th {\n",
       "        text-align: right;\n",
       "    }\n",
       "</style>\n",
       "<table border=\"1\" class=\"dataframe\">\n",
       "  <thead>\n",
       "    <tr style=\"text-align: right;\">\n",
       "      <th></th>\n",
       "      <th>Sentiment</th>\n",
       "      <th>SentimentText</th>\n",
       "    </tr>\n",
       "  </thead>\n",
       "  <tbody>\n",
       "    <tr>\n",
       "      <th>767</th>\n",
       "      <td>1</td>\n",
       "      <td>@LadyKeisha @scorpio510 thanx for the post &amp;a...</td>\n",
       "    </tr>\n",
       "  </tbody>\n",
       "</table>\n",
       "</div>"
      ],
      "text/plain": [
       "     Sentiment                                      SentimentText\n",
       "767          1   @LadyKeisha @scorpio510 thanx for the post &a..."
      ]
     },
     "execution_count": 10,
     "metadata": {},
     "output_type": "execute_result"
    }
   ],
   "source": [
    "df_twitter[df_twitter['SentimentText'] == ' @LadyKeisha @scorpio510 thanx for the post &amp; the warm wishes.. enjoy ur day!']"
   ]
  },
  {
   "cell_type": "markdown",
   "metadata": {},
   "source": [
    "## Large Movie Review Dataset"
   ]
  },
  {
   "cell_type": "code",
   "execution_count": 11,
   "metadata": {},
   "outputs": [
    {
     "data": {
      "text/html": [
       "<div>\n",
       "<style scoped>\n",
       "    .dataframe tbody tr th:only-of-type {\n",
       "        vertical-align: middle;\n",
       "    }\n",
       "\n",
       "    .dataframe tbody tr th {\n",
       "        vertical-align: top;\n",
       "    }\n",
       "\n",
       "    .dataframe thead th {\n",
       "        text-align: right;\n",
       "    }\n",
       "</style>\n",
       "<table border=\"1\" class=\"dataframe\">\n",
       "  <thead>\n",
       "    <tr style=\"text-align: right;\">\n",
       "      <th></th>\n",
       "      <th>Sentiment</th>\n",
       "      <th>SentimentText</th>\n",
       "    </tr>\n",
       "  </thead>\n",
       "  <tbody>\n",
       "    <tr>\n",
       "      <th>0</th>\n",
       "      <td>0</td>\n",
       "      <td>Not as bad, as it's credited to being (Hooper'...</td>\n",
       "    </tr>\n",
       "    <tr>\n",
       "      <th>1</th>\n",
       "      <td>0</td>\n",
       "      <td>This is the story of a young woman seduced and...</td>\n",
       "    </tr>\n",
       "    <tr>\n",
       "      <th>2</th>\n",
       "      <td>0</td>\n",
       "      <td>After too many bad memories, I took to skippin...</td>\n",
       "    </tr>\n",
       "    <tr>\n",
       "      <th>3</th>\n",
       "      <td>0</td>\n",
       "      <td>La Sanguisuga Conduce la Danza, or The Bloodsu...</td>\n",
       "    </tr>\n",
       "    <tr>\n",
       "      <th>4</th>\n",
       "      <td>0</td>\n",
       "      <td>I may not be a critic, but here is what I thin...</td>\n",
       "    </tr>\n",
       "  </tbody>\n",
       "</table>\n",
       "</div>"
      ],
      "text/plain": [
       "   Sentiment                                      SentimentText\n",
       "0          0  Not as bad, as it's credited to being (Hooper'...\n",
       "1          0  This is the story of a young woman seduced and...\n",
       "2          0  After too many bad memories, I took to skippin...\n",
       "3          0  La Sanguisuga Conduce la Danza, or The Bloodsu...\n",
       "4          0  I may not be a critic, but here is what I thin..."
      ]
     },
     "execution_count": 11,
     "metadata": {},
     "output_type": "execute_result"
    }
   ],
   "source": [
    "sentiment = []\n",
    "text = []\n",
    "\n",
    "negative_path = os.path.join(os.getcwd(), 'aclImdb_v1/aclImdb/train/neg/')\n",
    "positive_path = os.path.join(os.getcwd(), 'aclImdb_v1/aclImdb/train/pos/')\n",
    "\n",
    "for filename in os.listdir(negative_path):\n",
    "    with open(os.path.join(negative_path, filename), 'r') as file:\n",
    "        sentiment.append(0)\n",
    "        text.append(file.readline())\n",
    "        \n",
    "for filename in os.listdir(positive_path):\n",
    "    with open(os.path.join(positive_path, filename), 'r') as file:\n",
    "        sentiment.append(1)\n",
    "        text.append(file.readline())\n",
    "\n",
    "df_lmr_train = pd.DataFrame(data={\"Sentiment\": sentiment, \"SentimentText\": text})  \n",
    "\n",
    "df_lmr_train.head()"
   ]
  },
  {
   "cell_type": "code",
   "execution_count": 12,
   "metadata": {},
   "outputs": [
    {
     "name": "stdout",
     "output_type": "stream",
     "text": [
      "<class 'pandas.core.frame.DataFrame'>\n",
      "RangeIndex: 25000 entries, 0 to 24999\n",
      "Data columns (total 2 columns):\n",
      " #   Column         Non-Null Count  Dtype \n",
      "---  ------         --------------  ----- \n",
      " 0   Sentiment      25000 non-null  int64 \n",
      " 1   SentimentText  25000 non-null  object\n",
      "dtypes: int64(1), object(1)\n",
      "memory usage: 390.8+ KB\n"
     ]
    }
   ],
   "source": [
    "df_lmr_train.info()"
   ]
  },
  {
   "cell_type": "code",
   "execution_count": 13,
   "metadata": {},
   "outputs": [
    {
     "data": {
      "text/plain": [
       "Sentiment                                                        1\n",
       "SentimentText    The Great Caruso displays the unique talents o...\n",
       "Name: 24567, dtype: object"
      ]
     },
     "execution_count": 13,
     "metadata": {},
     "output_type": "execute_result"
    }
   ],
   "source": [
    "df_lmr_train.iloc[24567]"
   ]
  },
  {
   "cell_type": "code",
   "execution_count": 14,
   "metadata": {},
   "outputs": [
    {
     "data": {
      "text/plain": [
       "(\"The Great Caruso displays the unique talents of Mario Lanza. He shows great acting capacity and is in top form as a lyrical singer, paired with Dorothy Kirsten, soprano of the Metropolitan Opera. Indeed, I dare to say that he performs some songs better than Caruso (check A'Vuchella from Tosti and La Danza from Rossini). The MGM art and music departments also did a good job. This movie could be perfect, were it not for the awkward presence of Ann Blyth; we see that she is trying her best, dressed in the fifties style in scenes just before 1920 - unforgivable. Lanza deserved a better leading lady, and Blyth should stick to less demanding productions. Also notice that Ms. Kirsten sings most of the opera duets of the film with Lanza, giving the wrong notion that Caruso had a kind of permanent leading soprano.\",\n",
       " 1)"
      ]
     },
     "execution_count": 14,
     "metadata": {},
     "output_type": "execute_result"
    }
   ],
   "source": [
    "X_lmr_train, y_lmr_train = df_lmr_train['SentimentText'].values, df_lmr_train['Sentiment'].values\n",
    "\n",
    "X_lmr_train[24567], y_lmr_train[24567]"
   ]
  },
  {
   "cell_type": "code",
   "execution_count": 15,
   "metadata": {},
   "outputs": [
    {
     "data": {
      "text/html": [
       "<div>\n",
       "<style scoped>\n",
       "    .dataframe tbody tr th:only-of-type {\n",
       "        vertical-align: middle;\n",
       "    }\n",
       "\n",
       "    .dataframe tbody tr th {\n",
       "        vertical-align: top;\n",
       "    }\n",
       "\n",
       "    .dataframe thead th {\n",
       "        text-align: right;\n",
       "    }\n",
       "</style>\n",
       "<table border=\"1\" class=\"dataframe\">\n",
       "  <thead>\n",
       "    <tr style=\"text-align: right;\">\n",
       "      <th></th>\n",
       "      <th>Sentiment</th>\n",
       "      <th>SentimentText</th>\n",
       "    </tr>\n",
       "  </thead>\n",
       "  <tbody>\n",
       "    <tr>\n",
       "      <th>0</th>\n",
       "      <td>0</td>\n",
       "      <td>Perhaps it's just me, but this movie seemed mo...</td>\n",
       "    </tr>\n",
       "    <tr>\n",
       "      <th>1</th>\n",
       "      <td>0</td>\n",
       "      <td>After watching this movie on tv, I looked it u...</td>\n",
       "    </tr>\n",
       "    <tr>\n",
       "      <th>2</th>\n",
       "      <td>0</td>\n",
       "      <td>Even before this film it is clear to see that ...</td>\n",
       "    </tr>\n",
       "    <tr>\n",
       "      <th>3</th>\n",
       "      <td>0</td>\n",
       "      <td>This movie is a shame especially considering A...</td>\n",
       "    </tr>\n",
       "    <tr>\n",
       "      <th>4</th>\n",
       "      <td>0</td>\n",
       "      <td>Susan inadvertently stumbles onto a drug smugg...</td>\n",
       "    </tr>\n",
       "  </tbody>\n",
       "</table>\n",
       "</div>"
      ],
      "text/plain": [
       "   Sentiment                                      SentimentText\n",
       "0          0  Perhaps it's just me, but this movie seemed mo...\n",
       "1          0  After watching this movie on tv, I looked it u...\n",
       "2          0  Even before this film it is clear to see that ...\n",
       "3          0  This movie is a shame especially considering A...\n",
       "4          0  Susan inadvertently stumbles onto a drug smugg..."
      ]
     },
     "execution_count": 15,
     "metadata": {},
     "output_type": "execute_result"
    }
   ],
   "source": [
    "sentiment = []\n",
    "text = []\n",
    "\n",
    "negative_path = os.path.join(os.getcwd(), 'aclImdb_v1/aclImdb/test/neg/')\n",
    "positive_path = os.path.join(os.getcwd(), 'aclImdb_v1/aclImdb/test/pos/')\n",
    "\n",
    "\n",
    "for filename in os.listdir(negative_path):\n",
    "    with open(os.path.join(negative_path, filename), 'r') as file:\n",
    "        sentiment.append(0)\n",
    "        text.append(file.readline())\n",
    "        \n",
    "for filename in os.listdir(positive_path):\n",
    "    with open(os.path.join(positive_path, filename), 'r') as file:\n",
    "        sentiment.append(1)\n",
    "        text.append(file.readline())\n",
    "\n",
    "df_lmr_test = pd.DataFrame(data={\"Sentiment\": sentiment, \"SentimentText\": text})\n",
    "\n",
    "df_lmr_test.head()"
   ]
  },
  {
   "cell_type": "code",
   "execution_count": 16,
   "metadata": {},
   "outputs": [
    {
     "name": "stdout",
     "output_type": "stream",
     "text": [
      "<class 'pandas.core.frame.DataFrame'>\n",
      "RangeIndex: 25000 entries, 0 to 24999\n",
      "Data columns (total 2 columns):\n",
      " #   Column         Non-Null Count  Dtype \n",
      "---  ------         --------------  ----- \n",
      " 0   Sentiment      25000 non-null  int64 \n",
      " 1   SentimentText  25000 non-null  object\n",
      "dtypes: int64(1), object(1)\n",
      "memory usage: 390.8+ KB\n"
     ]
    }
   ],
   "source": [
    "df_lmr_test.info()"
   ]
  },
  {
   "cell_type": "code",
   "execution_count": 17,
   "metadata": {},
   "outputs": [
    {
     "data": {
      "text/plain": [
       "Sentiment                                                        1\n",
       "SentimentText    It's rare for a film to sweep you away within ...\n",
       "Name: 24567, dtype: object"
      ]
     },
     "execution_count": 17,
     "metadata": {},
     "output_type": "execute_result"
    }
   ],
   "source": [
    "df_lmr_test.iloc[24567]"
   ]
  },
  {
   "cell_type": "code",
   "execution_count": 18,
   "metadata": {},
   "outputs": [
    {
     "data": {
      "text/plain": [
       "(\"It's rare for a film to sweep you away within its world and leave you wanting more once the credits roll. Hayao Miyazaki's Ponyo is such a film.<br /><br />The film is the story of a young goldfish named Ponyo who wishes to become human. She swims to shore and is found by a young boy named Sasuke who promises to take care of her. Course Ponyo's father, an ecologically obsessed sorcerer named Fujimoto, tries to keep Ponyo from becoming human in order to maintain the balance of nature, which is eventually upturned when Ponyo finally transforms into a little girl, causing a massive typhoon.<br /><br />Ponyo is a very rich film. It is full of wondrous fantasy, lovable characters, and genuine heart. What director Hayao Miyazaki has done here is tell a simple little story, and while so doing creating authentic movie magic.<br /><br />Ponyo is an enchanting experience. The love between Sasuke and Ponyo is very pure and true. As well the environmentalist within Miyazaki is still as evident within this film as in all his previous works. Miyazaki shows the filth and grime that fall into the ocean in an almost startling light, not to mention Ponyo's father is on an obsessive mission to clean the world's oceans. While the story is simple, Miyazaki manages to add this extra layer to provoke thought with expert proficiency.<br /><br />The film is a beautiful work of art, each hand drawn cell looks like a wondrous pastel painting. The film looks very different than many other Studio Ghibli productions, but the artistry is still just as spectacular as ever before. The scenes underwater are simply beautiful to watch, Fujimoto's fortress under the sea is highly inventive, and the sequence where Ponyo runs across the jumping fish within the typhoon to reach Sosuke is iconic.<br /><br />Course it is thanks to its wonderfully executed characters that makes this film such a memorable experience. Sosuke is a young boy who acts older than he actually is, and the energetic Ponyo is a laugh a minute. Every character is just so enjoyable and highly memorable.<br /><br />Overall Ponyo is a wondrous experience, enchanting in every single way. While the film may be sold as a children's fairy tale, I believe many adults will be swept away within its fantastic world along with their children. While the film may lack the density of some of Miyazaki's previous works, here he keeps it pure and simple, being true to himself, delivering a film that is funny, heartwarming, and entertaining all in one. This is a magnificent film.<br /><br />I give Ponyo a perfect 10 out of 10!\",\n",
       " 1)"
      ]
     },
     "execution_count": 18,
     "metadata": {},
     "output_type": "execute_result"
    }
   ],
   "source": [
    "X_lmr_test, y_lmr_test = df_lmr_test['SentimentText'].values, df_lmr_test['Sentiment'].values\n",
    "\n",
    "X_lmr_test[24567], y_lmr_test[24567]"
   ]
  },
  {
   "cell_type": "markdown",
   "metadata": {},
   "source": [
    "## UCI Sentiment Labelled Sentences"
   ]
  },
  {
   "cell_type": "code",
   "execution_count": 19,
   "metadata": {},
   "outputs": [],
   "source": [
    "path = 'sentiment labelled sentences/'"
   ]
  },
  {
   "cell_type": "code",
   "execution_count": 20,
   "metadata": {},
   "outputs": [
    {
     "data": {
      "text/plain": [
       "['sentiment labelled sentences',\n",
       " 'imdb_labelled.txt',\n",
       " 'yelp_labelled.txt',\n",
       " 'amazon_cells_labelled.txt']"
      ]
     },
     "execution_count": 20,
     "metadata": {},
     "output_type": "execute_result"
    }
   ],
   "source": [
    "os.listdir(path)"
   ]
  },
  {
   "cell_type": "code",
   "execution_count": 21,
   "metadata": {},
   "outputs": [],
   "source": [
    "sentiment = []\n",
    "text = []\n",
    "filename = os.path.join(path, 'imdb_labelled.txt')\n",
    "line = 1\n",
    "with open(filename, 'r') as file:\n",
    "    while line:\n",
    "        line = file.readline()\n",
    "        if line and line[-2].isdigit():\n",
    "            #print(line, line[-2])\n",
    "            sentiment.append(int(line[-2]))\n",
    "            text.append(line[:-2].strip())\n",
    "            \n",
    "            \n",
    "X_imdb_train, X_imdb_test, y_imbd_train, y_imdb_test = train_test_split(text, sentiment,\n",
    "                                                                       test_size=0.1,\n",
    "                                                                       stratify=sentiment,\n",
    "                                                                       shuffle = True,\n",
    "                                                                       random_state=42)\n"
   ]
  },
  {
   "cell_type": "code",
   "execution_count": 22,
   "metadata": {},
   "outputs": [
    {
     "data": {
      "text/plain": [
       "('The fat computer geek was unbelievable, the bible thumper, the bad-ass girl, who are these actors???',\n",
       " 0)"
      ]
     },
     "execution_count": 22,
     "metadata": {},
     "output_type": "execute_result"
    }
   ],
   "source": [
    "X_imdb_train[0], y_imbd_train[0]"
   ]
  },
  {
   "cell_type": "code",
   "execution_count": 23,
   "metadata": {},
   "outputs": [],
   "source": [
    "sentiment = []\n",
    "text = []\n",
    "filename = os.path.join(path, 'yelp_labelled.txt')\n",
    "line = 1\n",
    "with open(filename, 'r') as file:\n",
    "    while line:\n",
    "        line = file.readline()\n",
    "        if line and line[-2].isdigit():\n",
    "            #print(line, line[-2])\n",
    "            sentiment.append(int(line[-2]))\n",
    "            text.append(line[:-2].strip())\n",
    "            \n",
    "            \n",
    "X_yelp_train, X_yelp_test, y_yelp_train, y_yelp_test = train_test_split(text, sentiment,\n",
    "                                                                       test_size=0.1,\n",
    "                                                                       stratify=sentiment,\n",
    "                                                                       shuffle = True,\n",
    "                                                                       random_state=42)\n"
   ]
  },
  {
   "cell_type": "code",
   "execution_count": 24,
   "metadata": {},
   "outputs": [
    {
     "data": {
      "text/plain": [
       "('The Wife hated her meal (coconut shrimp), and our friends really did not enjoy their meals, either.',\n",
       " 0)"
      ]
     },
     "execution_count": 24,
     "metadata": {},
     "output_type": "execute_result"
    }
   ],
   "source": [
    "X_yelp_train[0], y_yelp_train[0]"
   ]
  },
  {
   "cell_type": "code",
   "execution_count": 25,
   "metadata": {},
   "outputs": [],
   "source": [
    "sentiment = []\n",
    "text = []\n",
    "filename = os.path.join(path, 'amazon_cells_labelled.txt')\n",
    "line = 1\n",
    "with open(filename, 'r') as file:\n",
    "    while line:\n",
    "        line = file.readline()\n",
    "        if line and line[-2].isdigit():\n",
    "            #print(line, line[-2])\n",
    "            sentiment.append(int(line[-2]))\n",
    "            text.append(line[:-2].strip())\n",
    "            \n",
    "            \n",
    "X_amazon_train, X_amazon_test, y_amazon_train, y_amazon_test = train_test_split(text, sentiment,\n",
    "                                                                       test_size=0.1,\n",
    "                                                                       stratify=sentiment,\n",
    "                                                                       shuffle = True,\n",
    "                                                                       random_state=42)\n"
   ]
  },
  {
   "cell_type": "code",
   "execution_count": 26,
   "metadata": {},
   "outputs": [
    {
     "data": {
      "text/plain": [
       "('Treo and T-Mobile refused to replace it again and forced me to buy another phone without any kind of upgrade discount.',\n",
       " 0)"
      ]
     },
     "execution_count": 26,
     "metadata": {},
     "output_type": "execute_result"
    }
   ],
   "source": [
    "X_amazon_train[0], y_amazon_train[0]"
   ]
  },
  {
   "cell_type": "code",
   "execution_count": 27,
   "metadata": {},
   "outputs": [],
   "source": [
    "X_uci_train = np.array(X_imdb_train + X_yelp_train + X_amazon_train).astype('object')\n",
    "y_uci_train = np.array(y_imbd_train + y_yelp_train + y_amazon_train)\n",
    "\n",
    "X_uci_test = np.array(X_imdb_test + X_yelp_test + X_amazon_test).astype('object')\n",
    "y_uci_test = np.array(y_imdb_test + y_yelp_test + y_amazon_test)"
   ]
  },
  {
   "cell_type": "markdown",
   "metadata": {},
   "source": [
    "## Merging"
   ]
  },
  {
   "cell_type": "code",
   "execution_count": 28,
   "metadata": {},
   "outputs": [
    {
     "data": {
      "text/plain": [
       "array([0, 0, 0, ..., 1, 0, 0])"
      ]
     },
     "execution_count": 28,
     "metadata": {},
     "output_type": "execute_result"
    }
   ],
   "source": [
    "y_uci_train"
   ]
  },
  {
   "cell_type": "code",
   "execution_count": 29,
   "metadata": {},
   "outputs": [],
   "source": [
    "X_train = np.concatenate([X_twitter_train, X_lmr_train, X_uci_train])\n",
    "y_train = np.concatenate([y_twitter_train, y_lmr_train, y_uci_train])\n",
    "\n",
    "X_test = np.concatenate([X_twitter_test, X_lmr_test, X_uci_test])\n",
    "y_test = np.concatenate([y_twitter_test, y_lmr_test, y_uci_test])"
   ]
  },
  {
   "cell_type": "code",
   "execution_count": 30,
   "metadata": {},
   "outputs": [
    {
     "data": {
      "text/plain": [
       "(107691,)"
      ]
     },
     "execution_count": 30,
     "metadata": {},
     "output_type": "execute_result"
    }
   ],
   "source": [
    "X_train.shape"
   ]
  },
  {
   "cell_type": "code",
   "execution_count": 31,
   "metadata": {},
   "outputs": [
    {
     "data": {
      "text/plain": [
       "(45298,)"
      ]
     },
     "execution_count": 31,
     "metadata": {},
     "output_type": "execute_result"
    }
   ],
   "source": [
    "X_test.shape"
   ]
  },
  {
   "cell_type": "code",
   "execution_count": 32,
   "metadata": {},
   "outputs": [
    {
     "data": {
      "text/plain": [
       "(107691,)"
      ]
     },
     "execution_count": 32,
     "metadata": {},
     "output_type": "execute_result"
    }
   ],
   "source": [
    "y_train.shape"
   ]
  },
  {
   "cell_type": "code",
   "execution_count": 33,
   "metadata": {},
   "outputs": [
    {
     "data": {
      "text/plain": [
       "(45298,)"
      ]
     },
     "execution_count": 33,
     "metadata": {},
     "output_type": "execute_result"
    }
   ],
   "source": [
    "y_test.shape"
   ]
  },
  {
   "cell_type": "code",
   "execution_count": 34,
   "metadata": {},
   "outputs": [],
   "source": [
    "df_train = pd.DataFrame(data = {\"Text\": X_train, \"Sentiment\": y_train})\n",
    "df_test = pd.DataFrame(data = {\"Text\": X_test, \"Sentiment\": y_test})"
   ]
  },
  {
   "cell_type": "code",
   "execution_count": 35,
   "metadata": {},
   "outputs": [
    {
     "data": {
      "text/html": [
       "<div>\n",
       "<style scoped>\n",
       "    .dataframe tbody tr th:only-of-type {\n",
       "        vertical-align: middle;\n",
       "    }\n",
       "\n",
       "    .dataframe tbody tr th {\n",
       "        vertical-align: top;\n",
       "    }\n",
       "\n",
       "    .dataframe thead th {\n",
       "        text-align: right;\n",
       "    }\n",
       "</style>\n",
       "<table border=\"1\" class=\"dataframe\">\n",
       "  <thead>\n",
       "    <tr style=\"text-align: right;\">\n",
       "      <th></th>\n",
       "      <th>Text</th>\n",
       "      <th>Sentiment</th>\n",
       "    </tr>\n",
       "  </thead>\n",
       "  <tbody>\n",
       "    <tr>\n",
       "      <th>0</th>\n",
       "      <td>@bradhouse Yes</td>\n",
       "      <td>1</td>\n",
       "    </tr>\n",
       "    <tr>\n",
       "      <th>1</th>\n",
       "      <td>i wanna record new material</td>\n",
       "      <td>0</td>\n",
       "    </tr>\n",
       "    <tr>\n",
       "      <th>2</th>\n",
       "      <td>#followfriday - I'm a little late, but here's ...</td>\n",
       "      <td>1</td>\n",
       "    </tr>\n",
       "    <tr>\n",
       "      <th>3</th>\n",
       "      <td>@cavalieresilvio you laugh... we don't</td>\n",
       "      <td>0</td>\n",
       "    </tr>\n",
       "    <tr>\n",
       "      <th>4</th>\n",
       "      <td>@adzada The sun clearly hates you today.</td>\n",
       "      <td>0</td>\n",
       "    </tr>\n",
       "  </tbody>\n",
       "</table>\n",
       "</div>"
      ],
      "text/plain": [
       "                                                Text  Sentiment\n",
       "0                                    @bradhouse Yes           1\n",
       "1                        i wanna record new material          0\n",
       "2  #followfriday - I'm a little late, but here's ...          1\n",
       "3            @cavalieresilvio you laugh... we don't           0\n",
       "4          @adzada The sun clearly hates you today.           0"
      ]
     },
     "execution_count": 35,
     "metadata": {},
     "output_type": "execute_result"
    }
   ],
   "source": [
    "df_train.head()"
   ]
  },
  {
   "cell_type": "code",
   "execution_count": 36,
   "metadata": {},
   "outputs": [
    {
     "name": "stdout",
     "output_type": "stream",
     "text": [
      "<class 'pandas.core.frame.DataFrame'>\n",
      "RangeIndex: 107691 entries, 0 to 107690\n",
      "Data columns (total 2 columns):\n",
      " #   Column     Non-Null Count   Dtype \n",
      "---  ------     --------------   ----- \n",
      " 0   Text       107691 non-null  object\n",
      " 1   Sentiment  107691 non-null  int64 \n",
      "dtypes: int64(1), object(1)\n",
      "memory usage: 1.6+ MB\n"
     ]
    }
   ],
   "source": [
    "df_train.info()"
   ]
  },
  {
   "cell_type": "code",
   "execution_count": 37,
   "metadata": {},
   "outputs": [],
   "source": [
    "df_train = df_train.sample(frac=1).reset_index(drop=True)\n",
    "df_test = df_test.sample(frac=1).reset_index(drop=True)"
   ]
  },
  {
   "cell_type": "code",
   "execution_count": 38,
   "metadata": {},
   "outputs": [
    {
     "data": {
      "text/html": [
       "<div>\n",
       "<style scoped>\n",
       "    .dataframe tbody tr th:only-of-type {\n",
       "        vertical-align: middle;\n",
       "    }\n",
       "\n",
       "    .dataframe tbody tr th {\n",
       "        vertical-align: top;\n",
       "    }\n",
       "\n",
       "    .dataframe thead th {\n",
       "        text-align: right;\n",
       "    }\n",
       "</style>\n",
       "<table border=\"1\" class=\"dataframe\">\n",
       "  <thead>\n",
       "    <tr style=\"text-align: right;\">\n",
       "      <th></th>\n",
       "      <th>Text</th>\n",
       "      <th>Sentiment</th>\n",
       "    </tr>\n",
       "  </thead>\n",
       "  <tbody>\n",
       "    <tr>\n",
       "      <th>0</th>\n",
       "      <td>@_algin_ I sort of wanted to Susan Boyle to wi...</td>\n",
       "      <td>0</td>\n",
       "    </tr>\n",
       "    <tr>\n",
       "      <th>1</th>\n",
       "      <td>@Butterose needs someone to talk to at www.twi...</td>\n",
       "      <td>1</td>\n",
       "    </tr>\n",
       "    <tr>\n",
       "      <th>2</th>\n",
       "      <td>Even this early in his career, Capra was quite...</td>\n",
       "      <td>1</td>\n",
       "    </tr>\n",
       "    <tr>\n",
       "      <th>3</th>\n",
       "      <td>I was shocked because no signs indicate cash o...</td>\n",
       "      <td>0</td>\n",
       "    </tr>\n",
       "    <tr>\n",
       "      <th>4</th>\n",
       "      <td>@AjitJaokar Yes, it's working from TwitterBerrry</td>\n",
       "      <td>1</td>\n",
       "    </tr>\n",
       "  </tbody>\n",
       "</table>\n",
       "</div>"
      ],
      "text/plain": [
       "                                                Text  Sentiment\n",
       "0  @_algin_ I sort of wanted to Susan Boyle to wi...          0\n",
       "1  @Butterose needs someone to talk to at www.twi...          1\n",
       "2  Even this early in his career, Capra was quite...          1\n",
       "3  I was shocked because no signs indicate cash o...          0\n",
       "4  @AjitJaokar Yes, it's working from TwitterBerrry           1"
      ]
     },
     "execution_count": 38,
     "metadata": {},
     "output_type": "execute_result"
    }
   ],
   "source": [
    "df_train.head()"
   ]
  },
  {
   "cell_type": "code",
   "execution_count": 39,
   "metadata": {},
   "outputs": [
    {
     "name": "stdout",
     "output_type": "stream",
     "text": [
      "<class 'pandas.core.frame.DataFrame'>\n",
      "RangeIndex: 107691 entries, 0 to 107690\n",
      "Data columns (total 2 columns):\n",
      " #   Column     Non-Null Count   Dtype \n",
      "---  ------     --------------   ----- \n",
      " 0   Text       107691 non-null  object\n",
      " 1   Sentiment  107691 non-null  int64 \n",
      "dtypes: int64(1), object(1)\n",
      "memory usage: 1.6+ MB\n"
     ]
    }
   ],
   "source": [
    "df_train.info()"
   ]
  },
  {
   "cell_type": "code",
   "execution_count": 40,
   "metadata": {},
   "outputs": [],
   "source": [
    "df_train.to_csv('train_data.csv')\n",
    "df_test.to_csv('test_data.csv')"
   ]
  },
  {
   "cell_type": "code",
   "execution_count": null,
   "metadata": {},
   "outputs": [],
   "source": []
  },
  {
   "cell_type": "code",
   "execution_count": null,
   "metadata": {},
   "outputs": [],
   "source": []
  },
  {
   "cell_type": "code",
   "execution_count": null,
   "metadata": {},
   "outputs": [],
   "source": []
  }
 ],
 "metadata": {
  "kernelspec": {
   "display_name": "Python 3",
   "language": "python",
   "name": "python3"
  },
  "language_info": {
   "codemirror_mode": {
    "name": "ipython",
    "version": 3
   },
   "file_extension": ".py",
   "mimetype": "text/x-python",
   "name": "python",
   "nbconvert_exporter": "python",
   "pygments_lexer": "ipython3",
   "version": "3.8.3"
  }
 },
 "nbformat": 4,
 "nbformat_minor": 4
}
